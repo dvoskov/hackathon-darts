{
 "cells": [
  {
   "cell_type": "markdown",
   "metadata": {},
   "source": [
    "<img style=\"float: left;\" src=\"slides/Slide1.PNG\" width=\"90%\">"
   ]
  },
  {
   "cell_type": "markdown",
   "metadata": {},
   "source": [
    "### 1. Start with uploading needed modules"
   ]
  },
  {
   "cell_type": "code",
   "execution_count": 14,
   "metadata": {},
   "outputs": [],
   "source": [
    "from model import Model\n",
    "import pandas as pd\n",
    "import matplotlib.pyplot as plt\n",
    "from econ_simple import *"
   ]
  },
  {
   "cell_type": "markdown",
   "metadata": {},
   "source": [
    "### 2. Initialize the model"
   ]
  },
  {
   "cell_type": "markdown",
   "metadata": {},
   "source": [
    "<img style=\"float: left;\" src=\"slides/Picture1.PNG\" width=\"90%\">"
   ]
  },
  {
   "cell_type": "code",
   "execution_count": 15,
   "metadata": {},
   "outputs": [
    {
     "name": "stdout",
     "output_type": "stream",
     "text": [
      "darts-package built on 08/10/2020 18:32:54 by root@runner-Gd7HMPkj-project-1205-concurrent-0 from 180bd2c\n",
      "Building connection list...\n"
     ]
    }
   ],
   "source": []
  },
  {
   "cell_type": "markdown",
   "metadata": {},
   "source": [
    "### 3. Add well controls and run model for 10 years"
   ]
  },
  {
   "cell_type": "code",
   "execution_count": 16,
   "metadata": {
    "scrolled": true
   },
   "outputs": [
    {
     "name": "stdout",
     "output_type": "stream",
     "text": [
      "# 1 \tT = 0.0001\tDT = 0.0001\tNI = 5\tLI=21\n",
      "# 2 \tT = 0.0009\tDT = 0.0008\tNI = 2\tLI=11\n",
      "# 3 \tT = 0.0073\tDT = 0.0064\tNI = 2\tLI=11\n",
      "# 4 \tT = 0.0585\tDT = 0.0512\tNI = 2\tLI=15\n",
      "# 5 \tT = 0.4681\tDT = 0.4096\tNI = 2\tLI=18\n",
      "# 6 \tT = 3.7449\tDT = 3.2768\tNI = 3\tLI=31\n",
      "# 7 \tT = 29.9593\tDT = 26.2144\tNI = 3\tLI=36\n",
      "# 8 \tT = 239.675\tDT = 209.715\tNI = 4\tLI=60\n",
      "# 9 \tT = 604.675\tDT = 365\tNI = 3\tLI=51\n",
      "# 10 \tT = 969.675\tDT = 365\tNI = 3\tLI=48\n",
      "# 11 \tT = 1334.67\tDT = 365\tNI = 3\tLI=47\n",
      "# 12 \tT = 1699.67\tDT = 365\tNI = 2\tLI=32\n",
      "# 13 \tT = 2064.67\tDT = 365\tNI = 2\tLI=31\n",
      "# 14 \tT = 2429.67\tDT = 365\tNI = 3\tLI=46\n",
      "# 15 \tT = 2794.67\tDT = 365\tNI = 3\tLI=45\n",
      "# 16 \tT = 3159.67\tDT = 365\tNI = 3\tLI=44\n",
      "# 17 \tT = 3524.67\tDT = 365\tNI = 3\tLI=43\n",
      "# 18 \tT = 3650\tDT = 125.325\tNI = 2\tLI=25\n",
      "TS = 18(0), NI = 50(0), LI = 615(0)\n"
     ]
    }
   ],
   "source": []
  },
  {
   "cell_type": "markdown",
   "metadata": {},
   "source": [
    "### 4. Change well controls and run for another 10 years"
   ]
  },
  {
   "cell_type": "code",
   "execution_count": 17,
   "metadata": {},
   "outputs": [
    {
     "name": "stdout",
     "output_type": "stream",
     "text": [
      "# 1 \tT = 4015\tDT = 365\tNI = 3\tLI=47\n",
      "# 2 \tT = 4380\tDT = 365\tNI = 3\tLI=40\n",
      "# 3 \tT = 4745\tDT = 365\tNI = 3\tLI=41\n",
      "# 4 \tT = 5110\tDT = 365\tNI = 2\tLI=28\n",
      "# 5 \tT = 5475\tDT = 365\tNI = 3\tLI=40\n",
      "# 6 \tT = 5840\tDT = 365\tNI = 2\tLI=26\n",
      "# 7 \tT = 6205\tDT = 365\tNI = 3\tLI=40\n",
      "# 8 \tT = 6570\tDT = 365\tNI = 2\tLI=26\n",
      "# 9 \tT = 6935\tDT = 365\tNI = 3\tLI=39\n",
      "# 10 \tT = 7300\tDT = 365\tNI = 2\tLI=26\n",
      "TS = 28(0), NI = 76(0), LI = 968(0)\n"
     ]
    }
   ],
   "source": []
  },
  {
   "cell_type": "markdown",
   "metadata": {},
   "source": [
    "### 5. Export data and evaluate economy"
   ]
  },
  {
   "cell_type": "code",
   "execution_count": 18,
   "metadata": {
    "scrolled": false
   },
   "outputs": [],
   "source": [
    "time_data = pd.DataFrame.from_dict(m.physics.engine.time_data)\n",
    "all_wells_names, all_wells_top_tvd, all_wells_mid_tvd, all_wells_bottom_tvd = well_tvds(reservoir=m.reservoir)\n",
    "drill_costs = sum([drillingcostnl(depth) for depth in all_wells_bottom_tvd])"
   ]
  },
  {
   "cell_type": "markdown",
   "metadata": {},
   "source": [
    "### 6. Plot well regimes and economics"
   ]
  },
  {
   "cell_type": "code",
   "execution_count": 12,
   "metadata": {
    "scrolled": false
   },
   "outputs": [],
   "source": [
    "search_str = 'INJ : water rate'\n",
    "ax = time_data.plot(x='time', y=[col for col in time_data.columns if search_str in col])\n",
    "search_str = 'INJ : BHP'\n",
    "ax = time_data.plot(x='time', y=[col for col in time_data.columns if search_str in col])\n",
    "search_str = 'PRD : temp'\n",
    "ax = time_data.plot(x='time', y=[col for col in time_data.columns if search_str in col])\n",
    "plt.show()"
   ]
  },
  {
   "cell_type": "code",
   "execution_count": null,
   "metadata": {},
   "outputs": [],
   "source": []
  }
 ],
 "metadata": {
  "kernelspec": {
   "display_name": "Python 3",
   "language": "python",
   "name": "python3"
  },
  "language_info": {
   "codemirror_mode": {
    "name": "ipython",
    "version": 3
   },
   "file_extension": ".py",
   "mimetype": "text/x-python",
   "name": "python",
   "nbconvert_exporter": "python",
   "pygments_lexer": "ipython3",
   "version": "3.6.5"
  }
 },
 "nbformat": 4,
 "nbformat_minor": 2
}
